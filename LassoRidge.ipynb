{
 "cells": [
  {
   "cell_type": "code",
   "execution_count": 1,
   "metadata": {},
   "outputs": [],
   "source": [
    "import pandas as pd\n",
    "import numpy as np\n",
    "import seaborn as sns\n",
    "import matplotlib.pyplot as plt"
   ]
  },
  {
   "cell_type": "code",
   "execution_count": 2,
   "metadata": {},
   "outputs": [],
   "source": [
    "#data = pd.read_csv(\"airline_2m_1.csv\",encoding='Iso-8859-1', low_memory=False)\n",
    "#pd.set_option('display.max_columns', None)\n",
    "\n",
    "data = pd.read_csv('airline_2m 2.csv', low_memory=False, encoding='iso-8859-1', nrows=1000000)"
   ]
  },
  {
   "cell_type": "code",
   "execution_count": 3,
   "metadata": {},
   "outputs": [
    {
     "data": {
      "text/html": [
       "<div>\n",
       "<style scoped>\n",
       "    .dataframe tbody tr th:only-of-type {\n",
       "        vertical-align: middle;\n",
       "    }\n",
       "\n",
       "    .dataframe tbody tr th {\n",
       "        vertical-align: top;\n",
       "    }\n",
       "\n",
       "    .dataframe thead th {\n",
       "        text-align: right;\n",
       "    }\n",
       "</style>\n",
       "<table border=\"1\" class=\"dataframe\">\n",
       "  <thead>\n",
       "    <tr style=\"text-align: right;\">\n",
       "      <th></th>\n",
       "      <th>Year</th>\n",
       "      <th>Quarter</th>\n",
       "      <th>Month</th>\n",
       "      <th>DayofMonth</th>\n",
       "      <th>DayOfWeek</th>\n",
       "      <th>FlightDate</th>\n",
       "      <th>Reporting_Airline</th>\n",
       "      <th>DOT_ID_Reporting_Airline</th>\n",
       "      <th>IATA_CODE_Reporting_Airline</th>\n",
       "      <th>Tail_Number</th>\n",
       "      <th>...</th>\n",
       "      <th>Div4WheelsOff</th>\n",
       "      <th>Div4TailNum</th>\n",
       "      <th>Div5Airport</th>\n",
       "      <th>Div5AirportID</th>\n",
       "      <th>Div5AirportSeqID</th>\n",
       "      <th>Div5WheelsOn</th>\n",
       "      <th>Div5TotalGTime</th>\n",
       "      <th>Div5LongestGTime</th>\n",
       "      <th>Div5WheelsOff</th>\n",
       "      <th>Div5TailNum</th>\n",
       "    </tr>\n",
       "  </thead>\n",
       "  <tbody>\n",
       "    <tr>\n",
       "      <th>0</th>\n",
       "      <td>1998</td>\n",
       "      <td>1</td>\n",
       "      <td>1</td>\n",
       "      <td>2</td>\n",
       "      <td>5</td>\n",
       "      <td>1998-01-02</td>\n",
       "      <td>NW</td>\n",
       "      <td>19386</td>\n",
       "      <td>NW</td>\n",
       "      <td>N297US</td>\n",
       "      <td>...</td>\n",
       "      <td>NaN</td>\n",
       "      <td>NaN</td>\n",
       "      <td>NaN</td>\n",
       "      <td>NaN</td>\n",
       "      <td>NaN</td>\n",
       "      <td>NaN</td>\n",
       "      <td>NaN</td>\n",
       "      <td>NaN</td>\n",
       "      <td>NaN</td>\n",
       "      <td>NaN</td>\n",
       "    </tr>\n",
       "    <tr>\n",
       "      <th>1</th>\n",
       "      <td>2009</td>\n",
       "      <td>2</td>\n",
       "      <td>5</td>\n",
       "      <td>28</td>\n",
       "      <td>4</td>\n",
       "      <td>2009-05-28</td>\n",
       "      <td>FL</td>\n",
       "      <td>20437</td>\n",
       "      <td>FL</td>\n",
       "      <td>N946AT</td>\n",
       "      <td>...</td>\n",
       "      <td>NaN</td>\n",
       "      <td>NaN</td>\n",
       "      <td>NaN</td>\n",
       "      <td>NaN</td>\n",
       "      <td>NaN</td>\n",
       "      <td>NaN</td>\n",
       "      <td>NaN</td>\n",
       "      <td>NaN</td>\n",
       "      <td>NaN</td>\n",
       "      <td>NaN</td>\n",
       "    </tr>\n",
       "    <tr>\n",
       "      <th>2</th>\n",
       "      <td>2013</td>\n",
       "      <td>2</td>\n",
       "      <td>6</td>\n",
       "      <td>29</td>\n",
       "      <td>6</td>\n",
       "      <td>2013-06-29</td>\n",
       "      <td>MQ</td>\n",
       "      <td>20398</td>\n",
       "      <td>MQ</td>\n",
       "      <td>N665MQ</td>\n",
       "      <td>...</td>\n",
       "      <td>NaN</td>\n",
       "      <td>NaN</td>\n",
       "      <td>NaN</td>\n",
       "      <td>NaN</td>\n",
       "      <td>NaN</td>\n",
       "      <td>NaN</td>\n",
       "      <td>NaN</td>\n",
       "      <td>NaN</td>\n",
       "      <td>NaN</td>\n",
       "      <td>NaN</td>\n",
       "    </tr>\n",
       "    <tr>\n",
       "      <th>3</th>\n",
       "      <td>2010</td>\n",
       "      <td>3</td>\n",
       "      <td>8</td>\n",
       "      <td>31</td>\n",
       "      <td>2</td>\n",
       "      <td>2010-08-31</td>\n",
       "      <td>DL</td>\n",
       "      <td>19790</td>\n",
       "      <td>DL</td>\n",
       "      <td>N6705Y</td>\n",
       "      <td>...</td>\n",
       "      <td>NaN</td>\n",
       "      <td>NaN</td>\n",
       "      <td>NaN</td>\n",
       "      <td>NaN</td>\n",
       "      <td>NaN</td>\n",
       "      <td>NaN</td>\n",
       "      <td>NaN</td>\n",
       "      <td>NaN</td>\n",
       "      <td>NaN</td>\n",
       "      <td>NaN</td>\n",
       "    </tr>\n",
       "    <tr>\n",
       "      <th>4</th>\n",
       "      <td>2006</td>\n",
       "      <td>1</td>\n",
       "      <td>1</td>\n",
       "      <td>15</td>\n",
       "      <td>7</td>\n",
       "      <td>2006-01-15</td>\n",
       "      <td>US</td>\n",
       "      <td>20355</td>\n",
       "      <td>US</td>\n",
       "      <td>N504AU</td>\n",
       "      <td>...</td>\n",
       "      <td>NaN</td>\n",
       "      <td>NaN</td>\n",
       "      <td>NaN</td>\n",
       "      <td>NaN</td>\n",
       "      <td>NaN</td>\n",
       "      <td>NaN</td>\n",
       "      <td>NaN</td>\n",
       "      <td>NaN</td>\n",
       "      <td>NaN</td>\n",
       "      <td>NaN</td>\n",
       "    </tr>\n",
       "  </tbody>\n",
       "</table>\n",
       "<p>5 rows × 109 columns</p>\n",
       "</div>"
      ],
      "text/plain": [
       "   Year  Quarter  Month  DayofMonth  DayOfWeek  FlightDate Reporting_Airline  \\\n",
       "0  1998        1      1           2          5  1998-01-02                NW   \n",
       "1  2009        2      5          28          4  2009-05-28                FL   \n",
       "2  2013        2      6          29          6  2013-06-29                MQ   \n",
       "3  2010        3      8          31          2  2010-08-31                DL   \n",
       "4  2006        1      1          15          7  2006-01-15                US   \n",
       "\n",
       "   DOT_ID_Reporting_Airline IATA_CODE_Reporting_Airline Tail_Number  ...  \\\n",
       "0                     19386                          NW      N297US  ...   \n",
       "1                     20437                          FL      N946AT  ...   \n",
       "2                     20398                          MQ      N665MQ  ...   \n",
       "3                     19790                          DL      N6705Y  ...   \n",
       "4                     20355                          US      N504AU  ...   \n",
       "\n",
       "   Div4WheelsOff  Div4TailNum  Div5Airport  Div5AirportID Div5AirportSeqID  \\\n",
       "0            NaN          NaN          NaN            NaN              NaN   \n",
       "1            NaN          NaN          NaN            NaN              NaN   \n",
       "2            NaN          NaN          NaN            NaN              NaN   \n",
       "3            NaN          NaN          NaN            NaN              NaN   \n",
       "4            NaN          NaN          NaN            NaN              NaN   \n",
       "\n",
       "  Div5WheelsOn Div5TotalGTime  Div5LongestGTime Div5WheelsOff  Div5TailNum  \n",
       "0          NaN            NaN               NaN           NaN          NaN  \n",
       "1          NaN            NaN               NaN           NaN          NaN  \n",
       "2          NaN            NaN               NaN           NaN          NaN  \n",
       "3          NaN            NaN               NaN           NaN          NaN  \n",
       "4          NaN            NaN               NaN           NaN          NaN  \n",
       "\n",
       "[5 rows x 109 columns]"
      ]
     },
     "execution_count": 3,
     "metadata": {},
     "output_type": "execute_result"
    }
   ],
   "source": [
    "data.head()"
   ]
  },
  {
   "cell_type": "code",
   "execution_count": 4,
   "metadata": {},
   "outputs": [
    {
     "data": {
      "text/plain": [
       "(1000000, 109)"
      ]
     },
     "execution_count": 4,
     "metadata": {},
     "output_type": "execute_result"
    }
   ],
   "source": [
    "data.shape"
   ]
  },
  {
   "cell_type": "code",
   "execution_count": 5,
   "metadata": {},
   "outputs": [
    {
     "data": {
      "text/html": [
       "<div>\n",
       "<style scoped>\n",
       "    .dataframe tbody tr th:only-of-type {\n",
       "        vertical-align: middle;\n",
       "    }\n",
       "\n",
       "    .dataframe tbody tr th {\n",
       "        vertical-align: top;\n",
       "    }\n",
       "\n",
       "    .dataframe thead th {\n",
       "        text-align: right;\n",
       "    }\n",
       "</style>\n",
       "<table border=\"1\" class=\"dataframe\">\n",
       "  <thead>\n",
       "    <tr style=\"text-align: right;\">\n",
       "      <th></th>\n",
       "      <th>Year</th>\n",
       "      <th>Quarter</th>\n",
       "      <th>Month</th>\n",
       "      <th>DayofMonth</th>\n",
       "      <th>DayOfWeek</th>\n",
       "      <th>DOT_ID_Reporting_Airline</th>\n",
       "      <th>Flight_Number_Reporting_Airline</th>\n",
       "      <th>OriginAirportID</th>\n",
       "      <th>OriginAirportSeqID</th>\n",
       "      <th>OriginCityMarketID</th>\n",
       "      <th>...</th>\n",
       "      <th>Div4WheelsOff</th>\n",
       "      <th>Div4TailNum</th>\n",
       "      <th>Div5Airport</th>\n",
       "      <th>Div5AirportID</th>\n",
       "      <th>Div5AirportSeqID</th>\n",
       "      <th>Div5WheelsOn</th>\n",
       "      <th>Div5TotalGTime</th>\n",
       "      <th>Div5LongestGTime</th>\n",
       "      <th>Div5WheelsOff</th>\n",
       "      <th>Div5TailNum</th>\n",
       "    </tr>\n",
       "  </thead>\n",
       "  <tbody>\n",
       "    <tr>\n",
       "      <th>count</th>\n",
       "      <td>1000000.000000</td>\n",
       "      <td>1000000.000000</td>\n",
       "      <td>1000000.000000</td>\n",
       "      <td>1000000.000000</td>\n",
       "      <td>1000000.000000</td>\n",
       "      <td>1000000.000000</td>\n",
       "      <td>1000000.000000</td>\n",
       "      <td>1000000.000000</td>\n",
       "      <td>1.000000e+06</td>\n",
       "      <td>1000000.000000</td>\n",
       "      <td>...</td>\n",
       "      <td>0.0</td>\n",
       "      <td>0.0</td>\n",
       "      <td>0.0</td>\n",
       "      <td>0.0</td>\n",
       "      <td>0.0</td>\n",
       "      <td>0.0</td>\n",
       "      <td>0.0</td>\n",
       "      <td>0.0</td>\n",
       "      <td>0.0</td>\n",
       "      <td>0.0</td>\n",
       "    </tr>\n",
       "    <tr>\n",
       "      <th>mean</th>\n",
       "      <td>2004.314727</td>\n",
       "      <td>2.499499</td>\n",
       "      <td>6.494977</td>\n",
       "      <td>15.723691</td>\n",
       "      <td>3.939902</td>\n",
       "      <td>19924.501227</td>\n",
       "      <td>1718.461741</td>\n",
       "      <td>12717.879395</td>\n",
       "      <td>1.271790e+06</td>\n",
       "      <td>31734.005287</td>\n",
       "      <td>...</td>\n",
       "      <td>NaN</td>\n",
       "      <td>NaN</td>\n",
       "      <td>NaN</td>\n",
       "      <td>NaN</td>\n",
       "      <td>NaN</td>\n",
       "      <td>NaN</td>\n",
       "      <td>NaN</td>\n",
       "      <td>NaN</td>\n",
       "      <td>NaN</td>\n",
       "      <td>NaN</td>\n",
       "    </tr>\n",
       "    <tr>\n",
       "      <th>std</th>\n",
       "      <td>9.229159</td>\n",
       "      <td>1.118143</td>\n",
       "      <td>3.443484</td>\n",
       "      <td>8.777843</td>\n",
       "      <td>1.990003</td>\n",
       "      <td>366.581729</td>\n",
       "      <td>1660.067582</td>\n",
       "      <td>1534.411592</td>\n",
       "      <td>1.534409e+05</td>\n",
       "      <td>1302.358001</td>\n",
       "      <td>...</td>\n",
       "      <td>NaN</td>\n",
       "      <td>NaN</td>\n",
       "      <td>NaN</td>\n",
       "      <td>NaN</td>\n",
       "      <td>NaN</td>\n",
       "      <td>NaN</td>\n",
       "      <td>NaN</td>\n",
       "      <td>NaN</td>\n",
       "      <td>NaN</td>\n",
       "      <td>NaN</td>\n",
       "    </tr>\n",
       "    <tr>\n",
       "      <th>min</th>\n",
       "      <td>1987.000000</td>\n",
       "      <td>1.000000</td>\n",
       "      <td>1.000000</td>\n",
       "      <td>1.000000</td>\n",
       "      <td>1.000000</td>\n",
       "      <td>19386.000000</td>\n",
       "      <td>1.000000</td>\n",
       "      <td>10135.000000</td>\n",
       "      <td>1.013501e+06</td>\n",
       "      <td>30070.000000</td>\n",
       "      <td>...</td>\n",
       "      <td>NaN</td>\n",
       "      <td>NaN</td>\n",
       "      <td>NaN</td>\n",
       "      <td>NaN</td>\n",
       "      <td>NaN</td>\n",
       "      <td>NaN</td>\n",
       "      <td>NaN</td>\n",
       "      <td>NaN</td>\n",
       "      <td>NaN</td>\n",
       "      <td>NaN</td>\n",
       "    </tr>\n",
       "    <tr>\n",
       "      <th>25%</th>\n",
       "      <td>1997.000000</td>\n",
       "      <td>1.000000</td>\n",
       "      <td>3.000000</td>\n",
       "      <td>8.000000</td>\n",
       "      <td>2.000000</td>\n",
       "      <td>19704.000000</td>\n",
       "      <td>521.000000</td>\n",
       "      <td>11292.000000</td>\n",
       "      <td>1.129202e+06</td>\n",
       "      <td>30647.000000</td>\n",
       "      <td>...</td>\n",
       "      <td>NaN</td>\n",
       "      <td>NaN</td>\n",
       "      <td>NaN</td>\n",
       "      <td>NaN</td>\n",
       "      <td>NaN</td>\n",
       "      <td>NaN</td>\n",
       "      <td>NaN</td>\n",
       "      <td>NaN</td>\n",
       "      <td>NaN</td>\n",
       "      <td>NaN</td>\n",
       "    </tr>\n",
       "    <tr>\n",
       "      <th>50%</th>\n",
       "      <td>2005.000000</td>\n",
       "      <td>3.000000</td>\n",
       "      <td>7.000000</td>\n",
       "      <td>16.000000</td>\n",
       "      <td>4.000000</td>\n",
       "      <td>19805.000000</td>\n",
       "      <td>1167.000000</td>\n",
       "      <td>12892.000000</td>\n",
       "      <td>1.289201e+06</td>\n",
       "      <td>31453.000000</td>\n",
       "      <td>...</td>\n",
       "      <td>NaN</td>\n",
       "      <td>NaN</td>\n",
       "      <td>NaN</td>\n",
       "      <td>NaN</td>\n",
       "      <td>NaN</td>\n",
       "      <td>NaN</td>\n",
       "      <td>NaN</td>\n",
       "      <td>NaN</td>\n",
       "      <td>NaN</td>\n",
       "      <td>NaN</td>\n",
       "    </tr>\n",
       "    <tr>\n",
       "      <th>75%</th>\n",
       "      <td>2012.000000</td>\n",
       "      <td>3.000000</td>\n",
       "      <td>9.000000</td>\n",
       "      <td>23.000000</td>\n",
       "      <td>6.000000</td>\n",
       "      <td>20355.000000</td>\n",
       "      <td>2210.000000</td>\n",
       "      <td>14057.000000</td>\n",
       "      <td>1.405702e+06</td>\n",
       "      <td>32575.000000</td>\n",
       "      <td>...</td>\n",
       "      <td>NaN</td>\n",
       "      <td>NaN</td>\n",
       "      <td>NaN</td>\n",
       "      <td>NaN</td>\n",
       "      <td>NaN</td>\n",
       "      <td>NaN</td>\n",
       "      <td>NaN</td>\n",
       "      <td>NaN</td>\n",
       "      <td>NaN</td>\n",
       "      <td>NaN</td>\n",
       "    </tr>\n",
       "    <tr>\n",
       "      <th>max</th>\n",
       "      <td>2020.000000</td>\n",
       "      <td>4.000000</td>\n",
       "      <td>12.000000</td>\n",
       "      <td>31.000000</td>\n",
       "      <td>7.000000</td>\n",
       "      <td>21171.000000</td>\n",
       "      <td>9794.000000</td>\n",
       "      <td>16869.000000</td>\n",
       "      <td>1.686901e+06</td>\n",
       "      <td>36101.000000</td>\n",
       "      <td>...</td>\n",
       "      <td>NaN</td>\n",
       "      <td>NaN</td>\n",
       "      <td>NaN</td>\n",
       "      <td>NaN</td>\n",
       "      <td>NaN</td>\n",
       "      <td>NaN</td>\n",
       "      <td>NaN</td>\n",
       "      <td>NaN</td>\n",
       "      <td>NaN</td>\n",
       "      <td>NaN</td>\n",
       "    </tr>\n",
       "  </tbody>\n",
       "</table>\n",
       "<p>8 rows × 90 columns</p>\n",
       "</div>"
      ],
      "text/plain": [
       "                 Year         Quarter           Month      DayofMonth  \\\n",
       "count  1000000.000000  1000000.000000  1000000.000000  1000000.000000   \n",
       "mean      2004.314727        2.499499        6.494977       15.723691   \n",
       "std          9.229159        1.118143        3.443484        8.777843   \n",
       "min       1987.000000        1.000000        1.000000        1.000000   \n",
       "25%       1997.000000        1.000000        3.000000        8.000000   \n",
       "50%       2005.000000        3.000000        7.000000       16.000000   \n",
       "75%       2012.000000        3.000000        9.000000       23.000000   \n",
       "max       2020.000000        4.000000       12.000000       31.000000   \n",
       "\n",
       "            DayOfWeek  DOT_ID_Reporting_Airline  \\\n",
       "count  1000000.000000            1000000.000000   \n",
       "mean         3.939902              19924.501227   \n",
       "std          1.990003                366.581729   \n",
       "min          1.000000              19386.000000   \n",
       "25%          2.000000              19704.000000   \n",
       "50%          4.000000              19805.000000   \n",
       "75%          6.000000              20355.000000   \n",
       "max          7.000000              21171.000000   \n",
       "\n",
       "       Flight_Number_Reporting_Airline  OriginAirportID  OriginAirportSeqID  \\\n",
       "count                   1000000.000000   1000000.000000        1.000000e+06   \n",
       "mean                       1718.461741     12717.879395        1.271790e+06   \n",
       "std                        1660.067582      1534.411592        1.534409e+05   \n",
       "min                           1.000000     10135.000000        1.013501e+06   \n",
       "25%                         521.000000     11292.000000        1.129202e+06   \n",
       "50%                        1167.000000     12892.000000        1.289201e+06   \n",
       "75%                        2210.000000     14057.000000        1.405702e+06   \n",
       "max                        9794.000000     16869.000000        1.686901e+06   \n",
       "\n",
       "       OriginCityMarketID  ...  Div4WheelsOff  Div4TailNum  Div5Airport  \\\n",
       "count      1000000.000000  ...            0.0          0.0          0.0   \n",
       "mean         31734.005287  ...            NaN          NaN          NaN   \n",
       "std           1302.358001  ...            NaN          NaN          NaN   \n",
       "min          30070.000000  ...            NaN          NaN          NaN   \n",
       "25%          30647.000000  ...            NaN          NaN          NaN   \n",
       "50%          31453.000000  ...            NaN          NaN          NaN   \n",
       "75%          32575.000000  ...            NaN          NaN          NaN   \n",
       "max          36101.000000  ...            NaN          NaN          NaN   \n",
       "\n",
       "       Div5AirportID  Div5AirportSeqID  Div5WheelsOn  Div5TotalGTime  \\\n",
       "count            0.0               0.0           0.0             0.0   \n",
       "mean             NaN               NaN           NaN             NaN   \n",
       "std              NaN               NaN           NaN             NaN   \n",
       "min              NaN               NaN           NaN             NaN   \n",
       "25%              NaN               NaN           NaN             NaN   \n",
       "50%              NaN               NaN           NaN             NaN   \n",
       "75%              NaN               NaN           NaN             NaN   \n",
       "max              NaN               NaN           NaN             NaN   \n",
       "\n",
       "       Div5LongestGTime  Div5WheelsOff  Div5TailNum  \n",
       "count               0.0            0.0          0.0  \n",
       "mean                NaN            NaN          NaN  \n",
       "std                 NaN            NaN          NaN  \n",
       "min                 NaN            NaN          NaN  \n",
       "25%                 NaN            NaN          NaN  \n",
       "50%                 NaN            NaN          NaN  \n",
       "75%                 NaN            NaN          NaN  \n",
       "max                 NaN            NaN          NaN  \n",
       "\n",
       "[8 rows x 90 columns]"
      ]
     },
     "execution_count": 5,
     "metadata": {},
     "output_type": "execute_result"
    }
   ],
   "source": [
    "data.describe()"
   ]
  },
  {
   "cell_type": "code",
   "execution_count": 6,
   "metadata": {},
   "outputs": [
    {
     "name": "stdout",
     "output_type": "stream",
     "text": [
      "<class 'pandas.core.frame.DataFrame'>\n",
      "RangeIndex: 1000000 entries, 0 to 999999\n",
      "Columns: 109 entries, Year to Div5TailNum\n",
      "dtypes: float64(72), int64(18), object(19)\n",
      "memory usage: 831.6+ MB\n"
     ]
    }
   ],
   "source": [
    "data.info()"
   ]
  },
  {
   "cell_type": "code",
   "execution_count": 7,
   "metadata": {},
   "outputs": [
    {
     "data": {
      "text/plain": [
       "float64    72\n",
       "object     19\n",
       "int64      18\n",
       "dtype: int64"
      ]
     },
     "execution_count": 7,
     "metadata": {},
     "output_type": "execute_result"
    }
   ],
   "source": [
    "data.dtypes.value_counts()"
   ]
  },
  {
   "cell_type": "code",
   "execution_count": 8,
   "metadata": {},
   "outputs": [
    {
     "data": {
      "text/plain": [
       "Year                      0\n",
       "Quarter                   0\n",
       "Month                     0\n",
       "DayofMonth                0\n",
       "DayOfWeek                 0\n",
       "                     ...   \n",
       "Div5WheelsOn        1000000\n",
       "Div5TotalGTime      1000000\n",
       "Div5LongestGTime    1000000\n",
       "Div5WheelsOff       1000000\n",
       "Div5TailNum         1000000\n",
       "Length: 109, dtype: int64"
      ]
     },
     "execution_count": 8,
     "metadata": {},
     "output_type": "execute_result"
    }
   ],
   "source": [
    "data.isnull().sum()"
   ]
  },
  {
   "cell_type": "code",
   "execution_count": 9,
   "metadata": {},
   "outputs": [],
   "source": [
    "data = data.loc[:, data.isnull().mean() < .8]"
   ]
  },
  {
   "cell_type": "code",
   "execution_count": 10,
   "metadata": {},
   "outputs": [
    {
     "data": {
      "text/plain": [
       "(1000000, 56)"
      ]
     },
     "execution_count": 10,
     "metadata": {},
     "output_type": "execute_result"
    }
   ],
   "source": [
    "data.shape"
   ]
  },
  {
   "cell_type": "code",
   "execution_count": 11,
   "metadata": {},
   "outputs": [],
   "source": [
    "from sklearn.linear_model import LinearRegression, Ridge, Lasso \n",
    "from sklearn.model_selection import train_test_split, cross_val_score \n",
    "from statistics import mean \n",
    "from sklearn import metrics\n",
    "from sklearn.metrics import plot_confusion_matrix\n",
    "%matplotlib inline"
   ]
  },
  {
   "cell_type": "code",
   "execution_count": 12,
   "metadata": {},
   "outputs": [
    {
     "name": "stdout",
     "output_type": "stream",
     "text": [
      "<class 'pandas.core.frame.DataFrame'>\n",
      "RangeIndex: 1000000 entries, 0 to 999999\n",
      "Data columns (total 56 columns):\n",
      " #   Column                           Non-Null Count    Dtype  \n",
      "---  ------                           --------------    -----  \n",
      " 0   Year                             1000000 non-null  int64  \n",
      " 1   Quarter                          1000000 non-null  int64  \n",
      " 2   Month                            1000000 non-null  int64  \n",
      " 3   DayofMonth                       1000000 non-null  int64  \n",
      " 4   DayOfWeek                        1000000 non-null  int64  \n",
      " 5   FlightDate                       1000000 non-null  object \n",
      " 6   Reporting_Airline                1000000 non-null  object \n",
      " 7   DOT_ID_Reporting_Airline         1000000 non-null  int64  \n",
      " 8   IATA_CODE_Reporting_Airline      1000000 non-null  object \n",
      " 9   Tail_Number                      804200 non-null   object \n",
      " 10  Flight_Number_Reporting_Airline  1000000 non-null  int64  \n",
      " 11  OriginAirportID                  1000000 non-null  int64  \n",
      " 12  OriginAirportSeqID               1000000 non-null  int64  \n",
      " 13  OriginCityMarketID               1000000 non-null  int64  \n",
      " 14  Origin                           1000000 non-null  object \n",
      " 15  OriginCityName                   1000000 non-null  object \n",
      " 16  OriginState                      999693 non-null   object \n",
      " 17  OriginStateFips                  999693 non-null   float64\n",
      " 18  OriginStateName                  999693 non-null   object \n",
      " 19  OriginWac                        1000000 non-null  int64  \n",
      " 20  DestAirportID                    1000000 non-null  int64  \n",
      " 21  DestAirportSeqID                 1000000 non-null  int64  \n",
      " 22  DestCityMarketID                 1000000 non-null  int64  \n",
      " 23  Dest                             1000000 non-null  object \n",
      " 24  DestCityName                     1000000 non-null  object \n",
      " 25  DestState                        999715 non-null   object \n",
      " 26  DestStateFips                    999715 non-null   float64\n",
      " 27  DestStateName                    999715 non-null   object \n",
      " 28  DestWac                          1000000 non-null  int64  \n",
      " 29  CRSDepTime                       1000000 non-null  int64  \n",
      " 30  DepTime                          981986 non-null   float64\n",
      " 31  DepDelay                         981949 non-null   float64\n",
      " 32  DepDelayMinutes                  981949 non-null   float64\n",
      " 33  DepDel15                         981949 non-null   float64\n",
      " 34  DepartureDelayGroups             981949 non-null   float64\n",
      " 35  DepTimeBlk                       1000000 non-null  object \n",
      " 36  TaxiOut                          792296 non-null   float64\n",
      " 37  WheelsOff                        792280 non-null   float64\n",
      " 38  WheelsOn                         791133 non-null   float64\n",
      " 39  TaxiIn                           791180 non-null   float64\n",
      " 40  CRSArrTime                       1000000 non-null  int64  \n",
      " 41  ArrTime                          980212 non-null   float64\n",
      " 42  ArrDelay                         979392 non-null   float64\n",
      " 43  ArrDelayMinutes                  979392 non-null   float64\n",
      " 44  ArrDel15                         979392 non-null   float64\n",
      " 45  ArrivalDelayGroups               979392 non-null   float64\n",
      " 46  ArrTimeBlk                       1000000 non-null  object \n",
      " 47  Cancelled                        1000000 non-null  float64\n",
      " 48  Diverted                         1000000 non-null  float64\n",
      " 49  CRSElapsedTime                   999846 non-null   float64\n",
      " 50  ActualElapsedTime                979404 non-null   float64\n",
      " 51  AirTime                          790372 non-null   float64\n",
      " 52  Flights                          1000000 non-null  float64\n",
      " 53  Distance                         1000000 non-null  float64\n",
      " 54  DistanceGroup                    1000000 non-null  int64  \n",
      " 55  DivAirportLandings               372766 non-null   float64\n",
      "dtypes: float64(24), int64(18), object(14)\n",
      "memory usage: 427.2+ MB\n",
      "None\n"
     ]
    }
   ],
   "source": [
    "print(data.info())"
   ]
  },
  {
   "cell_type": "code",
   "execution_count": 13,
   "metadata": {},
   "outputs": [],
   "source": [
    "data = data.drop(columns=['DivAirportLandings', 'TaxiIn', 'WheelsOn', 'WheelsOff', 'TaxiOut', 'Tail_Number'])"
   ]
  },
  {
   "cell_type": "code",
   "execution_count": 14,
   "metadata": {},
   "outputs": [],
   "source": [
    "data = data.drop(columns=['OriginState', 'OriginStateFips', 'OriginStateName', 'DestState', 'DestStateFips', 'DestStateName', 'FlightDate'])"
   ]
  },
  {
   "cell_type": "code",
   "execution_count": 15,
   "metadata": {},
   "outputs": [
    {
     "data": {
      "text/plain": [
       "DepTime                 0.144587\n",
       "DepDelay                0.932044\n",
       "DepDelayMinutes         0.935097\n",
       "DepDel15                0.575685\n",
       "DepartureDelayGroups    0.847909\n",
       "ArrDelay                0.977601\n",
       "ArrDelayMinutes         1.000000\n",
       "ArrDel15                0.617433\n",
       "ArrivalDelayGroups      0.888433\n",
       "Name: ArrDelayMinutes, dtype: float64"
      ]
     },
     "execution_count": 15,
     "metadata": {},
     "output_type": "execute_result"
    }
   ],
   "source": [
    "cor = data.corr()\n",
    "#Correlation with output variable\n",
    "cor_target = abs(cor[\"ArrDelayMinutes\"])\n",
    "#Selecting highly correlated features\n",
    "#relevant_features = cor_target[cor_target>0.5]\n",
    "relevant_features = cor_target[cor_target > 0.1]\n",
    "relevant_features"
   ]
  },
  {
   "cell_type": "code",
   "execution_count": 16,
   "metadata": {},
   "outputs": [],
   "source": [
    "data = data.dropna()"
   ]
  },
  {
   "cell_type": "code",
   "execution_count": 17,
   "metadata": {},
   "outputs": [],
   "source": [
    "data = data.drop(columns=['AirTime'])"
   ]
  },
  {
   "cell_type": "code",
   "execution_count": 18,
   "metadata": {},
   "outputs": [],
   "source": [
    "from sklearn.impute import SimpleImputer\n",
    "my_imputer = SimpleImputer(strategy='median')"
   ]
  },
  {
   "cell_type": "code",
   "execution_count": 19,
   "metadata": {},
   "outputs": [],
   "source": [
    "data = data.drop(columns=['Reporting_Airline', 'IATA_CODE_Reporting_Airline'])"
   ]
  },
  {
   "cell_type": "code",
   "execution_count": 20,
   "metadata": {},
   "outputs": [],
   "source": [
    "data = data.drop(columns=['Origin', 'OriginCityName', 'Dest', 'DestCityName'])"
   ]
  },
  {
   "cell_type": "code",
   "execution_count": 21,
   "metadata": {},
   "outputs": [],
   "source": [
    "data = data.drop(columns=['DepTimeBlk', 'ArrTimeBlk'])"
   ]
  },
  {
   "cell_type": "code",
   "execution_count": 22,
   "metadata": {},
   "outputs": [],
   "source": [
    "data = pd.DataFrame(my_imputer.fit_transform(data),\n",
    "                            columns=data.columns,\n",
    "                            index=data.index)"
   ]
  },
  {
   "cell_type": "markdown",
   "metadata": {},
   "source": [
    "### Linear Regression"
   ]
  },
  {
   "cell_type": "code",
   "execution_count": 23,
   "metadata": {},
   "outputs": [
    {
     "data": {
      "text/plain": [
       "CRSDepTime              0.100766\n",
       "DepTime                 0.149519\n",
       "DepDelay                0.941790\n",
       "DepDelayMinutes         0.945397\n",
       "DepDel15                0.574911\n",
       "DepartureDelayGroups    0.849300\n",
       "ArrDelay                0.978377\n",
       "ArrDelayMinutes         1.000000\n",
       "ArrDel15                0.618166\n",
       "ArrivalDelayGroups      0.884836\n",
       "Name: ArrDelayMinutes, dtype: float64"
      ]
     },
     "execution_count": 23,
     "metadata": {},
     "output_type": "execute_result"
    }
   ],
   "source": [
    "cor = data.corr()\n",
    "#Correlation with output variable\n",
    "cor_target = abs(cor[\"ArrDelayMinutes\"])\n",
    "#Selecting highly correlated features\n",
    "#relevant_features = cor_target[cor_target>0.5]\n",
    "relevant_features = cor_target[cor_target > 0.1]\n",
    "relevant_features"
   ]
  },
  {
   "cell_type": "code",
   "execution_count": 24,
   "metadata": {},
   "outputs": [],
   "source": [
    "x = data[['DepDelay', 'DepDelayMinutes', 'DepDel15', 'DepartureDelayGroups']]\n",
    "y = data['ArrDelayMinutes']"
   ]
  },
  {
   "cell_type": "code",
   "execution_count": 25,
   "metadata": {},
   "outputs": [],
   "source": [
    "from sklearn.model_selection import train_test_split\n",
    "#x_train, x_test, y_train, y_test = train_test_split()\n",
    "x_train, x_test, y_train, y_test = train_test_split(x, y, test_size = 0.3)"
   ]
  },
  {
   "cell_type": "code",
   "execution_count": 26,
   "metadata": {},
   "outputs": [
    {
     "data": {
      "text/plain": [
       "LinearRegression()"
      ]
     },
     "execution_count": 26,
     "metadata": {},
     "output_type": "execute_result"
    }
   ],
   "source": [
    "from sklearn.linear_model import LinearRegression\n",
    "\n",
    "model = LinearRegression()\n",
    "model.fit(x_train, y_train)"
   ]
  },
  {
   "cell_type": "code",
   "execution_count": 27,
   "metadata": {},
   "outputs": [
    {
     "name": "stdout",
     "output_type": "stream",
     "text": [
      "[-0.09373994  1.0121116  -4.18220717  1.43133233]\n"
     ]
    }
   ],
   "source": [
    "print(model.coef_)"
   ]
  },
  {
   "cell_type": "code",
   "execution_count": 28,
   "metadata": {},
   "outputs": [
    {
     "name": "stdout",
     "output_type": "stream",
     "text": [
      "2.47488892785036\n"
     ]
    }
   ],
   "source": [
    "print(model.intercept_)"
   ]
  },
  {
   "cell_type": "code",
   "execution_count": 29,
   "metadata": {},
   "outputs": [
    {
     "data": {
      "text/html": [
       "<div>\n",
       "<style scoped>\n",
       "    .dataframe tbody tr th:only-of-type {\n",
       "        vertical-align: middle;\n",
       "    }\n",
       "\n",
       "    .dataframe tbody tr th {\n",
       "        vertical-align: top;\n",
       "    }\n",
       "\n",
       "    .dataframe thead th {\n",
       "        text-align: right;\n",
       "    }\n",
       "</style>\n",
       "<table border=\"1\" class=\"dataframe\">\n",
       "  <thead>\n",
       "    <tr style=\"text-align: right;\">\n",
       "      <th></th>\n",
       "      <th>Coeff</th>\n",
       "    </tr>\n",
       "  </thead>\n",
       "  <tbody>\n",
       "    <tr>\n",
       "      <th>DepDelay</th>\n",
       "      <td>-0.093740</td>\n",
       "    </tr>\n",
       "    <tr>\n",
       "      <th>DepDelayMinutes</th>\n",
       "      <td>1.012112</td>\n",
       "    </tr>\n",
       "    <tr>\n",
       "      <th>DepDel15</th>\n",
       "      <td>-4.182207</td>\n",
       "    </tr>\n",
       "    <tr>\n",
       "      <th>DepartureDelayGroups</th>\n",
       "      <td>1.431332</td>\n",
       "    </tr>\n",
       "  </tbody>\n",
       "</table>\n",
       "</div>"
      ],
      "text/plain": [
       "                         Coeff\n",
       "DepDelay             -0.093740\n",
       "DepDelayMinutes       1.012112\n",
       "DepDel15             -4.182207\n",
       "DepartureDelayGroups  1.431332"
      ]
     },
     "execution_count": 29,
     "metadata": {},
     "output_type": "execute_result"
    }
   ],
   "source": [
    "pd.DataFrame(model.coef_, x.columns, columns = ['Coeff'])"
   ]
  },
  {
   "cell_type": "code",
   "execution_count": 30,
   "metadata": {},
   "outputs": [],
   "source": [
    "predictions = model.predict(x_test)"
   ]
  },
  {
   "cell_type": "code",
   "execution_count": 31,
   "metadata": {},
   "outputs": [
    {
     "data": {
      "text/plain": [
       "<matplotlib.collections.PathCollection at 0x121bf65d0>"
      ]
     },
     "execution_count": 31,
     "metadata": {},
     "output_type": "execute_result"
    },
    {
     "data": {
      "image/png": "[encoded data removed]",
      "text/plain": [
       "<Figure size 432x288 with 1 Axes>"
      ]
     },
     "metadata": {
      "needs_background": "light"
     },
     "output_type": "display_data"
    }
   ],
   "source": [
    "plt.scatter(y_test, predictions)"
   ]
  },
  {
   "cell_type": "code",
   "execution_count": 32,
   "metadata": {},
   "outputs": [
    {
     "data": {
      "text/plain": [
       "<AxesSubplot:xlabel='ArrDelayMinutes'>"
      ]
     },
     "execution_count": 32,
     "metadata": {},
     "output_type": "execute_result"
    },
    {
     "data": {
      "image/png": "[encoded data removed]",
      "text/plain": [
       "<Figure size 432x288 with 1 Axes>"
      ]
     },
     "metadata": {
      "needs_background": "light"
     },
     "output_type": "display_data"
    }
   ],
   "source": [
    "sns.distplot(y_test - predictions)"
   ]
  },
  {
   "cell_type": "code",
   "execution_count": 33,
   "metadata": {},
   "outputs": [
    {
     "data": {
      "text/plain": [
       "126.8649694202639"
      ]
     },
     "execution_count": 33,
     "metadata": {},
     "output_type": "execute_result"
    }
   ],
   "source": [
    "from sklearn import metrics\n",
    "\n",
    "####mean squared error\n",
    "metrics.mean_squared_error(y_test, predictions)\n"
   ]
  },
  {
   "cell_type": "code",
   "execution_count": 34,
   "metadata": {},
   "outputs": [
    {
     "data": {
      "text/plain": [
       "5.350492178291883"
      ]
     },
     "execution_count": 34,
     "metadata": {},
     "output_type": "execute_result"
    }
   ],
   "source": [
    "###mean absolute error\n",
    "metrics.mean_absolute_error(y_test, predictions)"
   ]
  },
  {
   "cell_type": "code",
   "execution_count": 34,
   "metadata": {},
   "outputs": [
    {
     "data": {
      "text/plain": [
       "10.205975638236055"
      ]
     },
     "execution_count": 34,
     "metadata": {},
     "output_type": "execute_result"
    }
   ],
   "source": [
    "###using numpy square root function... and the sequared error you calculated\n",
    "np.sqrt(metrics.mean_squared_error(y_test, predictions))"
   ]
  },
  {
   "cell_type": "code",
   "execution_count": 35,
   "metadata": {},
   "outputs": [
    {
     "data": {
      "text/plain": [
       "array([ 1.51225632,  1.41851638, 11.65860551, ...,  2.47488893,\n",
       "        5.2300039 , 21.76493388])"
      ]
     },
     "execution_count": 35,
     "metadata": {},
     "output_type": "execute_result"
    }
   ],
   "source": [
    "predictions"
   ]
  },
  {
   "cell_type": "code",
   "execution_count": 36,
   "metadata": {},
   "outputs": [
    {
     "data": {
      "text/plain": [
       "Ridge(alpha=2)"
      ]
     },
     "execution_count": 36,
     "metadata": {},
     "output_type": "execute_result"
    }
   ],
   "source": [
    "RidgeReg = Ridge(alpha=2)\n",
    "RidgeReg.fit(x_train,y_train)"
   ]
  },
  {
   "cell_type": "code",
   "execution_count": 37,
   "metadata": {},
   "outputs": [
    {
     "name": "stdout",
     "output_type": "stream",
     "text": [
      "RMSE estimate: 0.89\n"
     ]
    }
   ],
   "source": [
    "Ridge = RidgeReg.score(x_test,y_test)\n",
    "print(\"RMSE estimate: {}\".format(round(Ridge,2) ))"
   ]
  },
  {
   "cell_type": "code",
   "execution_count": 38,
   "metadata": {},
   "outputs": [],
   "source": [
    "Ridge_preds = RidgeReg.predict(x_test)"
   ]
  },
  {
   "cell_type": "code",
   "execution_count": 39,
   "metadata": {},
   "outputs": [
    {
     "data": {
      "text/plain": [
       "5.350487516346919"
      ]
     },
     "execution_count": 39,
     "metadata": {},
     "output_type": "execute_result"
    }
   ],
   "source": [
    "Ridge_MAE= metrics.mean_absolute_error(y_test, Ridge_preds)\n",
    "Ridge_MAE"
   ]
  },
  {
   "cell_type": "code",
   "execution_count": 40,
   "metadata": {},
   "outputs": [
    {
     "data": {
      "text/plain": [
       "Lasso(alpha=2)"
      ]
     },
     "execution_count": 40,
     "metadata": {},
     "output_type": "execute_result"
    }
   ],
   "source": [
    "LassoReg = Lasso(alpha=2)\n",
    "LassoReg.fit(x_train,y_train)"
   ]
  },
  {
   "cell_type": "code",
   "execution_count": 41,
   "metadata": {},
   "outputs": [
    {
     "name": "stdout",
     "output_type": "stream",
     "text": [
      "RMSE estimate: 0.89\n"
     ]
    }
   ],
   "source": [
    "Lasso = LassoReg.score(x_test,y_test)\n",
    "print(\"RMSE estimate: {}\".format(round(Lasso,2)))"
   ]
  },
  {
   "cell_type": "code",
   "execution_count": 42,
   "metadata": {},
   "outputs": [],
   "source": [
    "Lasso_preds = LassoReg.predict(x_test)"
   ]
  },
  {
   "cell_type": "code",
   "execution_count": 43,
   "metadata": {},
   "outputs": [
    {
     "data": {
      "text/plain": [
       "5.3240972432525275"
      ]
     },
     "execution_count": 43,
     "metadata": {},
     "output_type": "execute_result"
    }
   ],
   "source": [
    "Lasso_MAE= metrics.mean_absolute_error(y_test, Lasso_preds)\n",
    "Lasso_MAE"
   ]
  },
  {
   "cell_type": "code",
   "execution_count": null,
   "metadata": {},
   "outputs": [],
   "source": []
  }
 ],
 "metadata": {
  "kernelspec": {
   "display_name": "Python 3",
   "language": "python",
   "name": "python3"
  },
  "language_info": {
   "codemirror_mode": {
    "name": "ipython",
    "version": 3
   },
   "file_extension": ".py",
   "mimetype": "text/x-python",
   "name": "python",
   "nbconvert_exporter": "python",
   "pygments_lexer": "ipython3",
   "version": "3.7.9"
  }
 },
 "nbformat": 4,
 "nbformat_minor": 4
}
